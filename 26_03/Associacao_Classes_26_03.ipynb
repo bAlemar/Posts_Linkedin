{
 "cells": [
  {
   "cell_type": "code",
   "execution_count": null,
   "metadata": {},
   "outputs": [],
   "source": [
    "# Relações de classes\n",
    "# Associação entre as classes\n",
    "\n",
    "\n",
    "\n",
    "# SOLID:\n",
    "\n",
    "# S -> Single-Responsibiliy Principle (Príncipio da Responsabilidade Única) (SRP)\n",
    "\n",
    "#Funções tem funcionalidades únicas.\n",
    "#Módulo = Elemento coeso que tem certa funcionalidade\n",
    "#Temos que respeitar uma certa estrutura\n",
    "\n",
    "# Por exemplo:\n",
    "# Aqui estamos verificando e retornando uma resposta na mesma função.\n",
    "# Podemos criar uma função para verificação dos dados\n",
    "\n",
    "class SistemaCadastral:\n",
    "    def cadastrar(self, nome: str, idade: int) -> None:\n",
    "        #Verificando os Dados\n",
    "        if isinstance(nome,str) and isinstance(idade,int): \n",
    "            #Armazenamento usuario\n",
    "            print(f'{nome} registrados')\n",
    "        else:\n",
    "            #Error\n",
    "            print('Dados Inválidos')   \n",
    "\n",
    "\n",
    "# Refatorando o Código Utilizando o Single Responsibiliy Principle:\n",
    "class SistemaCadastral:\n",
    "    def cadastrar(self, nome: str, idade: int) -> None:\n",
    "        #Verificando os Dados\n",
    "        if self.__verificar_dados(nome,idade):\n",
    "            #Armazenamento usuario\n",
    "            self.__armazenar_usuario(nome,idade)\n",
    "        else:\n",
    "            #Error\n",
    "            self.__indicar_erro()             \n",
    "    \n",
    "    # Funções:\n",
    "    def __verificar_dados(self,nome:str,idade:int) -> bool:\n",
    "        if isinstance(nome,str) and isinstance(idade,int): \n",
    "            return True\n",
    "        else:\n",
    "            return False\n",
    "    def __armazenar_usuario(self,nome:str,idade:int) -> None:\n",
    "        print(f'{nome} de {idade} registrado')\n",
    "\n",
    "    def __indicar_erro(self) -> None:\n",
    "        print('dados inválidos!')\n",
    "\n",
    "# vantagens:\n",
    "        # se precisarmos alterar o método de verificação, alteramos apenas o script __verificar_dados\n",
    "        # se precisamos mudar o registro podemos alterar a função __registrar_usuario"
   ]
  },
  {
   "cell_type": "code",
   "execution_count": 2,
   "metadata": {},
   "outputs": [],
   "source": [
    "#O -> Principio Aberto e Fechado\n",
    "# Os códigos de software devem permitir o comportamento de adição de novos códigos em vez de alterar os existentes\n",
    "# Um módulo é considerado fechado se estiver engessado e caso precise fazer alguma att deve-se modificar o cód.\n",
    "# Essa prática de modulo fechado não é boa prática.\n",
    "\n",
    "# Classe para carregamento da base de dados\n",
    "class CarregarBase:\n",
    "    def carregar(self,tipo):\n",
    "        if tipo == 1:\n",
    "            self.carregar_anvisa()\n",
    "        if tipo == 2:\n",
    "            self.carregar_medicamento()    \n",
    "    # Carregamento Anvisa\n",
    "    def carregar_anvisa(self):\n",
    "        print('Extract anvisa')\n",
    "    # Carregamento Medicamentos\n",
    "    def carregar_medicamento(self):\n",
    "        print('Extract medicamento')\n"
   ]
  },
  {
   "cell_type": "code",
   "execution_count": null,
   "metadata": {},
   "outputs": [],
   "source": [
    "sem_OCP = CarregarBase()\n",
    "sem_OCP.carregar(1)"
   ]
  },
  {
   "cell_type": "code",
   "execution_count": 5,
   "metadata": {},
   "outputs": [],
   "source": [
    "#Modulo aberto: Se ainda estiver disponível para extensão, sendo possível adicionar novos campo.\n",
    "# Possível outros programadores utilizarem e atualizarem.       \n",
    "# Entradas diferentes geram ações diferentes\n",
    "# Utilizando herenças e interface...\n",
    "        \n",
    "# Classe para carregamento da base de dados\n",
    "class CarregarBase:\n",
    "    def carregar(self, base: any):\n",
    "        base.carregar_base()\n",
    "\n",
    "# Carregamento Anvisa\n",
    "class Anvisa:\n",
    "    def carregar_base(self):\n",
    "        print('Extract anvisa')\n",
    "# Carregamento Medicamentos\n",
    "class Medicamento:\n",
    "    def carregar_base(self):\n",
    "        print('Extract medicamento')"
   ]
  },
  {
   "cell_type": "code",
   "execution_count": 6,
   "metadata": {},
   "outputs": [
    {
     "name": "stdout",
     "output_type": "stream",
     "text": [
      "Extract anvisa\n"
     ]
    }
   ],
   "source": [
    "com_OCP = CarregarBase()\n",
    "anvisa = Anvisa()\n",
    "com_OCP.carregar(anvisa)"
   ]
  },
  {
   "cell_type": "markdown",
   "metadata": {},
   "source": [
    "##### Exemplo do Principio de Liskov"
   ]
  },
  {
   "cell_type": "code",
   "execution_count": 60,
   "metadata": {},
   "outputs": [],
   "source": [
    "from abc import ABC, abstractmethod\n",
    "import pandas as pd\n",
    "\n",
    "#Classe Abstrata (Molde)\n",
    "@abstractmethod\n",
    "class CarregamentoBaseDados(ABC):\n",
    "    def carregar_dados(self, dados: dict) -> pd.DataFrame :\n",
    "        # Condição para Tipagem do arg\n",
    "        if type(dados) == dict:\n",
    "            return pd.DataFrame(dados)\n",
    "        else:\n",
    "            raise KeyError('O argumento deve ser um dicionário')\n",
    "#Classe Anvisa ( Carregará os Dados da Anvisa )\n",
    "class Anvisa(CarregamentoBaseDados):\n",
    "    # Puxar as funções da Classe Herdada\n",
    "    def __init__(self) -> None:\n",
    "        super().__init__()\n",
    "        \n",
    "#Classe Medicamento ( Carregará os Dados da Medicamento )    \n",
    "class Medicamento(CarregamentoBaseDados):\n",
    "    # Puxar as funções da Classe Herdada\n",
    "    def __init__(self) -> None:\n",
    "        super().__init__()"
   ]
  },
  {
   "cell_type": "code",
   "execution_count": 61,
   "metadata": {},
   "outputs": [
    {
     "ename": "KeyError",
     "evalue": "'O argumento deve ser um dicionário'",
     "output_type": "error",
     "traceback": [
      "\u001b[0;31m---------------------------------------------------------------------------\u001b[0m",
      "\u001b[0;31mKeyError\u001b[0m                                  Traceback (most recent call last)",
      "Cell \u001b[0;32mIn[61], line 2\u001b[0m\n\u001b[1;32m      1\u001b[0m anvisa \u001b[38;5;241m=\u001b[39m Anvisa()\n\u001b[0;32m----> 2\u001b[0m \u001b[43manvisa\u001b[49m\u001b[38;5;241;43m.\u001b[39;49m\u001b[43mcarregar_dados\u001b[49m\u001b[43m(\u001b[49m\u001b[43m[\u001b[49m\u001b[38;5;124;43m'\u001b[39;49m\u001b[38;5;124;43m1\u001b[39;49m\u001b[38;5;124;43m'\u001b[39;49m\u001b[43m,\u001b[49m\u001b[38;5;124;43m'\u001b[39;49m\u001b[38;5;124;43m2\u001b[39;49m\u001b[38;5;124;43m'\u001b[39;49m\u001b[43m,\u001b[49m\u001b[38;5;124;43m'\u001b[39;49m\u001b[38;5;124;43m3\u001b[39;49m\u001b[38;5;124;43m'\u001b[39;49m\u001b[43m]\u001b[49m\u001b[43m)\u001b[49m\n",
      "Cell \u001b[0;32mIn[60], line 12\u001b[0m, in \u001b[0;36mCarregamentoBaseDados.carregar_dados\u001b[0;34m(self, dados)\u001b[0m\n\u001b[1;32m     10\u001b[0m     \u001b[38;5;28;01mreturn\u001b[39;00m pd\u001b[38;5;241m.\u001b[39mDataFrame(dados)\n\u001b[1;32m     11\u001b[0m \u001b[38;5;28;01melse\u001b[39;00m:\n\u001b[0;32m---> 12\u001b[0m     \u001b[38;5;28;01mraise\u001b[39;00m \u001b[38;5;167;01mKeyError\u001b[39;00m(\u001b[38;5;124m'\u001b[39m\u001b[38;5;124mO argumento deve ser um dicionário\u001b[39m\u001b[38;5;124m'\u001b[39m)\n",
      "\u001b[0;31mKeyError\u001b[0m: 'O argumento deve ser um dicionário'"
     ]
    }
   ],
   "source": [
    "anvisa = Anvisa()\n",
    "anvisa.carregar_dados(['1','2','3'])"
   ]
  },
  {
   "cell_type": "code",
   "execution_count": 62,
   "metadata": {},
   "outputs": [
    {
     "data": {
      "text/html": [
       "<div>\n",
       "<style scoped>\n",
       "    .dataframe tbody tr th:only-of-type {\n",
       "        vertical-align: middle;\n",
       "    }\n",
       "\n",
       "    .dataframe tbody tr th {\n",
       "        vertical-align: top;\n",
       "    }\n",
       "\n",
       "    .dataframe thead th {\n",
       "        text-align: right;\n",
       "    }\n",
       "</style>\n",
       "<table border=\"1\" class=\"dataframe\">\n",
       "  <thead>\n",
       "    <tr style=\"text-align: right;\">\n",
       "      <th></th>\n",
       "      <th>Vitamina C</th>\n",
       "      <th>Tylenol</th>\n",
       "    </tr>\n",
       "  </thead>\n",
       "  <tbody>\n",
       "    <tr>\n",
       "      <th>0</th>\n",
       "      <td>50mg</td>\n",
       "      <td>100mg</td>\n",
       "    </tr>\n",
       "    <tr>\n",
       "      <th>1</th>\n",
       "      <td>100mg</td>\n",
       "      <td>20mg</td>\n",
       "    </tr>\n",
       "    <tr>\n",
       "      <th>2</th>\n",
       "      <td>50mg</td>\n",
       "      <td>10mg</td>\n",
       "    </tr>\n",
       "  </tbody>\n",
       "</table>\n",
       "</div>"
      ],
      "text/plain": [
       "  Vitamina C Tylenol\n",
       "0       50mg   100mg\n",
       "1      100mg    20mg\n",
       "2       50mg    10mg"
      ]
     },
     "execution_count": 62,
     "metadata": {},
     "output_type": "execute_result"
    }
   ],
   "source": [
    "medicamento = Medicamento()\n",
    "medicamento.carregar_dados({'Vitamina C':['50mg','100mg','50mg'],\n",
    "                            'Tylenol':['100mg','20mg','10mg']})"
   ]
  },
  {
   "cell_type": "markdown",
   "metadata": {},
   "source": [
    "##### Polimorfismo ( continuação de Liskov )"
   ]
  },
  {
   "cell_type": "code",
   "execution_count": 1,
   "metadata": {},
   "outputs": [],
   "source": [
    "from abc import ABC, abstractmethod\n",
    "import pandas as pd\n",
    "\n",
    "#Classe Abstrata (Molde)\n",
    "@abstractmethod\n",
    "class CarregamentoBaseDados(ABC):\n",
    "    def carregar_dados(self, dados: dict) -> pd.DataFrame :\n",
    "        # Condição para Tipagem do arg\n",
    "        if isinstance(dados,dict):\n",
    "            return pd.DataFrame(dados)\n",
    "        else:\n",
    "            raise KeyError('O argumento deve ser um dicionário')\n",
    "\n",
    "#Classe Anvisa ( Carregará os Dados da Anvisa )\n",
    "class Anvisa(CarregamentoBaseDados):\n",
    "    def __init__(self) -> None:\n",
    "        super().__init__()\n",
    "    # Polimorfismo\n",
    "    def carregar_dados(self,dados: list) -> pd.Series:\n",
    "        return pd.Series(dados)\n",
    "    \n",
    "#Classe Medicamento ( Carregará os Dados da Medicamento )    \n",
    "class Medicamento(CarregamentoBaseDados):\n",
    "    # Respeitando príncipio Liskov\n",
    "    def __init__(self) -> None:\n",
    "        super().__init__()"
   ]
  },
  {
   "cell_type": "code",
   "execution_count": 2,
   "metadata": {},
   "outputs": [
    {
     "ename": "KeyError",
     "evalue": "'O argumento deve ser um dicionário'",
     "output_type": "error",
     "traceback": [
      "\u001b[0;31m---------------------------------------------------------------------------\u001b[0m",
      "\u001b[0;31mKeyError\u001b[0m                                  Traceback (most recent call last)",
      "Cell \u001b[0;32mIn[2], line 3\u001b[0m\n\u001b[1;32m      1\u001b[0m dados \u001b[38;5;241m=\u001b[39m [\u001b[38;5;124m'\u001b[39m\u001b[38;5;124mA\u001b[39m\u001b[38;5;124m'\u001b[39m,\u001b[38;5;124m'\u001b[39m\u001b[38;5;124mB\u001b[39m\u001b[38;5;124m'\u001b[39m,\u001b[38;5;124m'\u001b[39m\u001b[38;5;124mC\u001b[39m\u001b[38;5;124m'\u001b[39m]\n\u001b[1;32m      2\u001b[0m medicamento \u001b[38;5;241m=\u001b[39m Medicamento()\n\u001b[0;32m----> 3\u001b[0m \u001b[43mmedicamento\u001b[49m\u001b[38;5;241;43m.\u001b[39;49m\u001b[43mcarregar_dados\u001b[49m\u001b[43m(\u001b[49m\u001b[43mdados\u001b[49m\u001b[43m)\u001b[49m\n",
      "Cell \u001b[0;32mIn[1], line 12\u001b[0m, in \u001b[0;36mCarregamentoBaseDados.carregar_dados\u001b[0;34m(self, dados)\u001b[0m\n\u001b[1;32m     10\u001b[0m     \u001b[38;5;28;01mreturn\u001b[39;00m pd\u001b[38;5;241m.\u001b[39mDataFrame(dados)\n\u001b[1;32m     11\u001b[0m \u001b[38;5;28;01melse\u001b[39;00m:\n\u001b[0;32m---> 12\u001b[0m     \u001b[38;5;28;01mraise\u001b[39;00m \u001b[38;5;167;01mKeyError\u001b[39;00m(\u001b[38;5;124m'\u001b[39m\u001b[38;5;124mO argumento deve ser um dicionário\u001b[39m\u001b[38;5;124m'\u001b[39m)\n",
      "\u001b[0;31mKeyError\u001b[0m: 'O argumento deve ser um dicionário'"
     ]
    }
   ],
   "source": [
    "dados = ['A','B','C']\n",
    "medicamento = Medicamento()\n",
    "medicamento.carregar_dados(dados)"
   ]
  },
  {
   "cell_type": "code",
   "execution_count": 3,
   "metadata": {},
   "outputs": [
    {
     "data": {
      "text/plain": [
       "0    A\n",
       "1    B\n",
       "2    C\n",
       "dtype: object"
      ]
     },
     "execution_count": 3,
     "metadata": {},
     "output_type": "execute_result"
    }
   ],
   "source": [
    "# Polimorfismo\n",
    "dados = ['A','B','C']\n",
    "anvisa = Anvisa()\n",
    "anvisa.carregar_dados(dados)"
   ]
  },
  {
   "cell_type": "code",
   "execution_count": null,
   "metadata": {},
   "outputs": [],
   "source": [
    "# Exercicio\n",
    "class PostgresDB:\n",
    "    def __init__(self) -> None:\n",
    "        self.__conexao = 'Post gre'\n",
    "\n",
    "    def conectar(self) -> str:\n",
    "        print('Conectado')\n",
    "        return self.__conexao\n",
    "    def desconectar(self) -> str:\n",
    "        print('desconectar')\n",
    "        return self.__conexao"
   ]
  },
  {
   "cell_type": "code",
   "execution_count": 2,
   "metadata": {},
   "outputs": [],
   "source": [
    "# Injeção de Dependencia\n",
    "# Tipagem das classes, Basicamente temos funcionalidades dependentes é tipo micro pro macro. \n",
    "# Fluxo Grama ajuda isso\n",
    "from typing import Type\n",
    "class Casa:\n",
    "    def __init__(self) -> None:\n",
    "        self.__endereco = 'Endereço'\n",
    "    def acender_luz(self) -> None:\n",
    "        print('Acendendo a luz')\n",
    "    def get_endereco(self)-> str:\n",
    "        return self.__endereco\n",
    "class Pessoa:\n",
    "    def __init__(self, nome:str, local: Type[Casa]) -> None:\n",
    "        self.__local = local\n",
    "        self.__nome = nome\n",
    "    def entrar_no_local(self) -> None:\n",
    "        self.__local.acender_luz()\n",
    "    def apresentar_local(self) -> None:\n",
    "        endereco = self.__local.get_endereco()\n",
    "        print(endereco)"
   ]
  },
  {
   "cell_type": "code",
   "execution_count": null,
   "metadata": {},
   "outputs": [],
   "source": [
    "casa_amigo = Casa()\n",
    "ana = Pessoa('Ana',casa_amigo)\n",
    "ana.entrar_no_local()\n",
    "ana.apresentar_local()"
   ]
  },
  {
   "cell_type": "code",
   "execution_count": 12,
   "metadata": {},
   "outputs": [],
   "source": [
    "from abc import ABC, abstractmethod\n",
    "\n",
    "#Classe Abstrata (Molde)\n",
    "@abstractmethod\n",
    "class ETL_Dados(ABC):   \n",
    "    def carregar_dados(self) -> None:\n",
    "        return None\n",
    "    def transformar_dados(self) -> None:\n",
    "        return None\n",
    "    def loading_dados(self) -> None:\n",
    "        return None    \n",
    "\n",
    "#Classe Anvisa\n",
    "class Anvisa(ETL_Dados):\n",
    "    def __init__(self) -> None:\n",
    "        pass\n",
    "    def carregar_dados(self) -> None:\n",
    "        return None\n",
    "    def loading_dados(self) -> None:\n",
    "        return None\n",
    "\n",
    "#Classe Medicamento\n",
    "class Medicamento(ETL_Dados):\n",
    "    def __init__(self) -> None:\n",
    "        pass\n",
    "    def carregar_dados(self) -> None:\n",
    "        return None\n",
    "    def transformar_dados(self) -> None:\n",
    "        return None\n",
    "    def loading_dados(self) -> None:\n",
    "        return None"
   ]
  },
  {
   "cell_type": "code",
   "execution_count": null,
   "metadata": {},
   "outputs": [],
   "source": [
    "@abstractmethod\n",
    "class ETL_Dados_Anvisa(ABC):\n",
    "    def carregar_dados(self) -> None:\n",
    "        return None\n",
    "    def loading_dados(self) -> None:\n",
    "        return None\n",
    "    \n",
    "#Classe Anvisa ( Carregará os Dados da Anvisa )\n",
    "class Anvisa(ETL_Dados_Anvisa):\n",
    "    def __init__(self) -> None:\n",
    "        pass\n",
    "    def carregar_dados(self) -> None:\n",
    "        return None\n",
    "    def loading_dados(self) -> None:\n",
    "        return None\n"
   ]
  },
  {
   "cell_type": "code",
   "execution_count": 13,
   "metadata": {},
   "outputs": [
    {
     "name": "stdout",
     "output_type": "stream",
     "text": [
      "<class 'NoneType'>\n"
     ]
    }
   ],
   "source": [
    "medicamento = Medicamento()\n",
    "medicamento.carregar_dados({'oi':[1,2,3,4]})"
   ]
  },
  {
   "cell_type": "code",
   "execution_count": null,
   "metadata": {},
   "outputs": [],
   "source": []
  }
 ],
 "metadata": {
  "kernelspec": {
   "display_name": "Python 3",
   "language": "python",
   "name": "python3"
  },
  "language_info": {
   "codemirror_mode": {
    "name": "ipython",
    "version": 3
   },
   "file_extension": ".py",
   "mimetype": "text/x-python",
   "name": "python",
   "nbconvert_exporter": "python",
   "pygments_lexer": "ipython3",
   "version": "3.10.12"
  }
 },
 "nbformat": 4,
 "nbformat_minor": 2
}
