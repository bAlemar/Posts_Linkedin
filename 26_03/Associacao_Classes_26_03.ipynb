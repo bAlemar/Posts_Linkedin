{
 "cells": [
  {
   "cell_type": "code",
   "execution_count": null,
   "metadata": {},
   "outputs": [],
   "source": [
    "# Relações de classes\n",
    "# Associação entre as classes\n",
    "\n",
    "\n",
    "\n",
    "# SOLID:\n",
    "\n",
    "# S -> Single-Responsibiliy Principle (Príncipio da Responsabilidade Única) (SRP)\n",
    "\n",
    "#Funções tem funcionalidades únicas.\n",
    "#Módulo = Elemento coeso que tem certa funcionalidade\n",
    "#Temos que respeitar uma certa estrutura\n",
    "\n",
    "# Por exemplo:\n",
    "# Aqui estamos verificando e retornando uma resposta na mesma função.\n",
    "# Podemos criar uma função para verificação dos dados\n",
    "\n",
    "class SistemaCadastral:\n",
    "    def cadastrar(self, nome: str, idade: int) -> None:\n",
    "        #Verificando os Dados\n",
    "        if isinstance(nome,str) and isinstance(idade,int): \n",
    "            #Armazenamento usuario\n",
    "            print(f'{nome} registrados')\n",
    "        else:\n",
    "            #Error\n",
    "            print('Dados Inválidos')   \n",
    "\n",
    "\n",
    "# Refatorando o Código Utilizando o Single Responsibiliy Principle:\n",
    "class SistemaCadastral:\n",
    "    def cadastrar(self, nome: str, idade: int) -> None:\n",
    "        #Verificando os Dados\n",
    "        if self.__verificar_dados(nome,idade):\n",
    "            #Armazenamento usuario\n",
    "            self.__armazenar_usuario(nome,idade)\n",
    "        else:\n",
    "            #Error\n",
    "            self.__indicar_erro()             \n",
    "    \n",
    "    # Funções:\n",
    "    def __verificar_dados(self,nome:str,idade:int) -> bool:\n",
    "        if isinstance(nome,str) and isinstance(idade,int): \n",
    "            return True\n",
    "        else:\n",
    "            return False\n",
    "    def __armazenar_usuario(self,nome:str,idade:int) -> None:\n",
    "        print(f'{nome} de {idade} registrado')\n",
    "\n",
    "    def __indicar_erro(self) -> None:\n",
    "        print('dados inválidos!')\n",
    "\n",
    "# vantagens:\n",
    "        # se precisarmos alterar o método de verificação, alteramos apenas o script __verificar_dados\n",
    "        # se precisamos mudar o registro podemos alterar a função __registrar_usuario"
   ]
  },
  {
   "cell_type": "code",
   "execution_count": null,
   "metadata": {},
   "outputs": [],
   "source": [
    "#O -> Principio Aberto e Fechado\n",
    "\n",
    "# Os códigos de software devem permitir o comportamento de adição de novos códigos em vez de alterar os existentes\n",
    "# Um moódulo é considerado fechado se estiver engessado e caso precise fazer alguma att deve-se modificar o cód.\n",
    "# Essa prática de modulo fechado não é boa prática.\n",
    "class CarregarBase:\n",
    "    def carregar(self,tipo):\n",
    "        if tipo == 1:\n",
    "            self.dados_anvisa()\n",
    "        if tipo == 2:\n",
    "            self.dados_medicamento()    \n",
    "    def dados_anvisa(self):\n",
    "        print('ETL anvisa')\n",
    "    def dados_medicamento(self):\n",
    "        print('ETL medicamento')\n",
    "\n",
    "#Modulo aberto: Se ainda estiver disponível para extensão, sendo possível adicionar novos campo.\n",
    "# Possível outros programadores utilizarem e atualizarem.       \n",
    "# Entradas diferentes geram ações diferentes\n",
    "\n",
    "class CarregarBase:\n",
    "    def carregar(self, base: any):\n",
    "        base.carregar_base()\n",
    "\n",
    "class Anvisa:\n",
    "    def carregar_base(self):\n",
    "        print('ETL anvisa')\n",
    "\n",
    "class Medicamento:\n",
    "    def carregar_base(self):\n",
    "        print('ETL medicamento')\n",
    "\n",
    "\n",
    "# A partir da CarregarBase podemos nos relacionar com diversas base de dados\n",
    "        "
   ]
  },
  {
   "cell_type": "code",
   "execution_count": null,
   "metadata": {},
   "outputs": [],
   "source": [
    "# Exercicio\n",
    "class PostgresDB:\n",
    "    def __init__(self) -> None:\n",
    "        self.__conexao = 'Post gre'\n",
    "\n",
    "    def conectar(self) -> str:\n",
    "        print('Conectado')\n",
    "        return self.__conexao\n",
    "    def desconectar(self) -> str:\n",
    "        print('desconectar')\n",
    "        return self.__conexao"
   ]
  },
  {
   "cell_type": "code",
   "execution_count": 2,
   "metadata": {},
   "outputs": [],
   "source": [
    "# Injeção de Dependencia\n",
    "# Tipagem das classes, Basicamente temos funcionalidades dependentes é tipo micro pro macro. \n",
    "# Fluxo Grama ajuda isso\n",
    "from typing import Type\n",
    "class Casa:\n",
    "\n",
    "    def __init__(self) -> None:\n",
    "        self.__endereco = 'Endereço'\n",
    "\n",
    "    def acender_luz(self) -> None:\n",
    "        print('Acendendo a luz')\n",
    "    def get_endereco(self)-> str:\n",
    "        return self.__endereco\n",
    "    \n",
    "class Pessoa:\n",
    "\n",
    "    def __init__(self, nome:str, local: Type[Casa]) -> None:\n",
    "        self.__local = local\n",
    "        self.__nome = nome\n",
    "    def entrar_no_local(self) -> None:\n",
    "        self.__local.acender_luz()\n",
    "\n",
    "    def apresentar_local(self) -> None:\n",
    "        endereco = self.__local.get_endereco()\n",
    "        print(endereco)"
   ]
  },
  {
   "cell_type": "code",
   "execution_count": 5,
   "metadata": {},
   "outputs": [
    {
     "name": "stdout",
     "output_type": "stream",
     "text": [
      "Acendendo a luz\n",
      "Endereço\n"
     ]
    }
   ],
   "source": [
    "casa_amigo = Casa()\n",
    "ana = Pessoa('Ana',casa_amigo)\n",
    "ana.entrar_no_local()\n",
    "ana.apresentar_local()"
   ]
  },
  {
   "cell_type": "code",
   "execution_count": null,
   "metadata": {},
   "outputs": [],
   "source": [
    "# Associação Bilateral (meio confuso)"
   ]
  },
  {
   "cell_type": "code",
   "execution_count": null,
   "metadata": {},
   "outputs": [],
   "source": [
    "# Introdução a Herança"
   ]
  }
 ],
 "metadata": {
  "kernelspec": {
   "display_name": "Python 3",
   "language": "python",
   "name": "python3"
  },
  "language_info": {
   "codemirror_mode": {
    "name": "ipython",
    "version": 3
   },
   "file_extension": ".py",
   "mimetype": "text/x-python",
   "name": "python",
   "nbconvert_exporter": "python",
   "pygments_lexer": "ipython3",
   "version": "3.10.12"
  }
 },
 "nbformat": 4,
 "nbformat_minor": 2
}
