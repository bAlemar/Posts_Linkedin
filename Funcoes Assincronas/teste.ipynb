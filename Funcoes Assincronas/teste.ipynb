{
 "cells": [
  {
   "cell_type": "code",
   "execution_count": null,
   "metadata": {},
   "outputs": [],
   "source": [
    "import time\n",
    "\n",
    "def scraping_1():\n",
    "    print('Rodando Scraping 1')\n",
    "    tempo = 3\n",
    "    time.sleep(tempo)\n",
    "    print('Tempo execução Scraping:',tempo)\n",
    "    \n",
    "def scraping_2():\n",
    "    print('Rodando Scraping 2')\n",
    "    tempo = 1\n",
    "    time.sleep(tempo)\n",
    "    print('Tempo execução Scraping:',tempo)\n",
    "\n",
    "def scraping_3():\n",
    "    print('Rodando Scraping 3')\n",
    "    tempo = 4\n",
    "    time.sleep(tempo)\n",
    "    print('Tempo execução Scraping:',tempo)\n",
    "\n",
    "\n",
    "tasks = [scraping_1,scraping_2,scraping_3]\n",
    "for task in tasks:\n",
    "    task()\n",
    "    print('===========//============//===========')"
   ]
  },
  {
   "cell_type": "code",
   "execution_count": null,
   "metadata": {},
   "outputs": [],
   "source": [
    "import asyncio\n",
    "async def scraping_1():\n",
    "    print('Rodando Scraping 1')\n",
    "    tempo = 3\n",
    "    await asyncio.sleep(tempo)\n",
    "    print('Tempo execução Scraping:',tempo)\n",
    "    \n",
    "async def scraping_2():\n",
    "    print('Rodando Scraping 2')\n",
    "    tempo = 1\n",
    "    await asyncio.sleep(tempo)\n",
    "    print('Tempo execução Scraping:',tempo)\n",
    "\n",
    "async def scraping_3():\n",
    "    print('Rodando Scraping 3')\n",
    "    tempo = 4\n",
    "    await asyncio.sleep(tempo)\n",
    "    print('Tempo execução Scraping:',tempo)\n",
    "\n",
    "\n",
    "tasks = [scraping_1,scraping_2,scraping_3]\n",
    "lista_asinc_tasks = []\n",
    "for task in tasks:\n",
    "    lista_asinc_tasks.append(asyncio.create_task(task()))\n",
    "await asyncio.gather(*lista_asinc_tasks)\n",
    "    "
   ]
  },
  {
   "cell_type": "code",
   "execution_count": 1,
   "metadata": {},
   "outputs": [
    {
     "name": "stdout",
     "output_type": "stream",
     "text": [
      "2.5687972083687782e-05\n"
     ]
    }
   ],
   "source": [
    "#Asyncio e MultiThreading\n",
    "import asyncio\n",
    "async def scraping_1():\n",
    "    print('Rodando Scraping 1')\n",
    "    tempo = 3\n",
    "    await asyncio.sleep(tempo)\n",
    "    print('Tempo execução Scraping:',tempo)\n",
    "    \n",
    "async def scraping_2():\n",
    "    print('Rodando Scraping 2')\n",
    "    tempo = 1\n",
    "    await asyncio.sleep(tempo)\n",
    "    print('Tempo execução Scraping:',tempo)\n",
    "\n",
    "async def scraping_3():\n",
    "    print('Rodando Scraping 3')\n",
    "    tempo = 4\n",
    "    await asyncio.sleep(tempo)\n",
    "    print('Tempo execução Scraping:',tempo)\n"
   ]
  },
  {
   "cell_type": "code",
   "execution_count": 6,
   "metadata": {},
   "outputs": [
    {
     "name": "stdout",
     "output_type": "stream",
     "text": [
      "Rodando Scraping 1\n",
      "Rodando Scraping 2\n",
      "Rodando Scraping 3\n",
      "Tempo execução Scraping: 1\n",
      "Tempo execução Scraping: 3\n",
      "Tempo execução Scraping: 4\n"
     ]
    }
   ],
   "source": [
    "import threading\n",
    "\n",
    "def scraping_1():\n",
    "    print('Rodando Scraping 1')\n",
    "    tempo = 3\n",
    "    time.sleep(tempo)\n",
    "    print('Tempo execução Scraping:',tempo)\n",
    "\n",
    "def scraping_2():\n",
    "    print('Rodando Scraping 2')\n",
    "    tempo = 1\n",
    "    time.sleep(tempo)\n",
    "    print('Tempo execução Scraping:',tempo)\n",
    "\n",
    "def scraping_3():\n",
    "    print('Rodando Scraping 3')\n",
    "    tempo = 4\n",
    "    time.sleep(tempo)\n",
    "    print('Tempo execução Scraping:',tempo)\n",
    "\n",
    "t1 = threading.Thread(target=scraping_1)\n",
    "t2 = threading.Thread(target=scraping_2)\n",
    "t3 = threading.Thread(target=scraping_3)\n",
    "\n",
    "t1.start()\n",
    "t2.start()\n",
    "t3.start()\n",
    "\n",
    "t1.join()\n",
    "t2.join()\n",
    "t3.join()"
   ]
  },
  {
   "cell_type": "code",
   "execution_count": null,
   "metadata": {},
   "outputs": [],
   "source": [
    "import threading\n",
    " \n",
    " \n",
    "def print_cube(num):\n",
    "    print(\"Cube: {}\" .format(num * num * num))\n",
    " \n",
    " \n",
    "def print_square(num):\n",
    "    print(\"Square: {}\" .format(num * num))\n",
    " \n",
    " \n",
    "if __name__ ==\"__main__\":\n",
    "    t1 = threading.Thread(target=print_square, args=(10,))\n",
    "    t2 = threading.Thread(target=print_cube, args=(10,))\n",
    " \n",
    "    t1.start()\n",
    "    t2.start()\n",
    " \n",
    "    t1.join()\n",
    "    t2.join()\n",
    " \n",
    "    print(\"Done!\")"
   ]
  },
  {
   "cell_type": "code",
   "execution_count": null,
   "metadata": {},
   "outputs": [],
   "source": []
  }
 ],
 "metadata": {
  "kernelspec": {
   "display_name": "Python 3",
   "language": "python",
   "name": "python3"
  },
  "language_info": {
   "codemirror_mode": {
    "name": "ipython",
    "version": 3
   },
   "file_extension": ".py",
   "mimetype": "text/x-python",
   "name": "python",
   "nbconvert_exporter": "python",
   "pygments_lexer": "ipython3",
   "version": "3.10.12"
  }
 },
 "nbformat": 4,
 "nbformat_minor": 2
}
