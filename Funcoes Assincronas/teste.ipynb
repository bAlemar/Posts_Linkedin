{
 "cells": [
  {
   "cell_type": "code",
   "execution_count": 7,
   "metadata": {},
   "outputs": [
    {
     "name": "stdout",
     "output_type": "stream",
     "text": [
      "Rodando Scraping 1\n",
      "Tempo execução Scraping: 3\n",
      "===========//============//===========\n",
      "Rodando Scraping 2\n",
      "Tempo execução Scraping: 1\n",
      "===========//============//===========\n",
      "Rodando Scraping 3\n",
      "Tempo execução Scraping: 4\n",
      "===========//============//===========\n"
     ]
    }
   ],
   "source": [
    "import time\n",
    "\n",
    "def scraping_1():\n",
    "    print('Rodando Scraping 1')\n",
    "    tempo = 3\n",
    "    time.sleep(tempo)\n",
    "    print('Tempo execução Scraping:',tempo)\n",
    "    \n",
    "def scraping_2():\n",
    "    print('Rodando Scraping 2')\n",
    "    tempo = 1\n",
    "    time.sleep(tempo)\n",
    "    print('Tempo execução Scraping:',tempo)\n",
    "\n",
    "def scraping_3():\n",
    "    print('Rodando Scraping 3')\n",
    "    tempo = 4\n",
    "    time.sleep(tempo)\n",
    "    print('Tempo execução Scraping:',tempo)\n",
    "\n",
    "\n",
    "tasks = [scraping_1,scraping_2,scraping_3]\n",
    "for task in tasks:\n",
    "    task()\n",
    "    print('===========//============//===========')"
   ]
  },
  {
   "cell_type": "code",
   "execution_count": 13,
   "metadata": {},
   "outputs": [
    {
     "name": "stdout",
     "output_type": "stream",
     "text": [
      "Rodando Scraping 1\n",
      "Rodando Scraping 2\n",
      "Rodando Scraping 3\n",
      "Tempo execução Scraping: 1\n",
      "Tempo execução Scraping: 3\n",
      "Tempo execução Scraping: 4\n"
     ]
    },
    {
     "data": {
      "text/plain": [
       "[None, None, None]"
      ]
     },
     "execution_count": 13,
     "metadata": {},
     "output_type": "execute_result"
    }
   ],
   "source": [
    "import asyncio\n",
    "async def scraping_1():\n",
    "    print('Rodando Scraping 1')\n",
    "    tempo = 3\n",
    "    await asyncio.sleep(tempo)\n",
    "    print('Tempo execução Scraping:',tempo)\n",
    "    \n",
    "async def scraping_2():\n",
    "    print('Rodando Scraping 2')\n",
    "    tempo = 1\n",
    "    await asyncio.sleep(tempo)\n",
    "    print('Tempo execução Scraping:',tempo)\n",
    "\n",
    "async def scraping_3():\n",
    "    print('Rodando Scraping 3')\n",
    "    tempo = 4\n",
    "    await asyncio.sleep(tempo)\n",
    "    print('Tempo execução Scraping:',tempo)\n",
    "\n",
    "\n",
    "tasks = [scraping_1,scraping_2,scraping_3]\n",
    "lista_asinc_tasks = []\n",
    "for task in tasks:\n",
    "    lista_asinc_tasks.append(asyncio.create_task(task()))\n",
    "await asyncio.gather(*lista_asinc_tasks)\n",
    "    "
   ]
  }
 ],
 "metadata": {
  "kernelspec": {
   "display_name": "Python 3",
   "language": "python",
   "name": "python3"
  },
  "language_info": {
   "codemirror_mode": {
    "name": "ipython",
    "version": 3
   },
   "file_extension": ".py",
   "mimetype": "text/x-python",
   "name": "python",
   "nbconvert_exporter": "python",
   "pygments_lexer": "ipython3",
   "version": "3.10.12"
  }
 },
 "nbformat": 4,
 "nbformat_minor": 2
}
