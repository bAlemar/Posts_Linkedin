{
 "cells": [
  {
   "cell_type": "code",
   "execution_count": 182,
   "metadata": {},
   "outputs": [],
   "source": [
    "import pandas as pd\n",
    "import numpy as np\n",
    "import re\n",
    "\n",
    "dicionario_exemplo = {'Nome': ['Gabriel dos SantOs 21 anos',\n",
    "                                'Carol SantoS 22 de idade',\n",
    "                                'Gabriel da silvA 24',\n",
    "                                'Fernanda Silva 25',\n",
    "                                'Mateus 29'],\n",
    "                      }\n",
    "\n",
    "def extracao_sobrenome(x):\n",
    "    sobrenome = re.search(r'SANTOS|SILVA',x.upper())   \n",
    "    idade = re.findall(r'\\d{1,2}',x)\n",
    "    if sobrenome:\n",
    "        return (sobrenome.group(),idade[0])\n",
    "    else:\n",
    "        return ('Sem sobrenome',idade[0])\n",
    "\n",
    "def limpeza(nome):\n",
    "    palavras = ['DE','ANOS','DA','DOS','IDADE']\n",
    "    padrao = '|'.join(palavras)\n",
    "    nome_limpo = re.sub(fr'\\b(?:{padrao})\\b','',nome)\n",
    "    return nome_limpo\n",
    "\n",
    "def extrair_nome_padrao(row):\n",
    "    nome_padrao = row['Nome'].upper().replace(row['Sobrenome'],'').replace(row['Idade'],'')\n",
    "    nome_padrao = limpeza(nome_padrao)\n",
    "    return nome_padrao"
   ]
  },
  {
   "cell_type": "code",
   "execution_count": 183,
   "metadata": {},
   "outputs": [],
   "source": [
    "# Apply pode ser aplicado a linhas ou colunas\n",
    "df_teste = pd.DataFrame(dicionario_exemplo)"
   ]
  },
  {
   "cell_type": "code",
   "execution_count": 185,
   "metadata": {},
   "outputs": [],
   "source": [
    "df_teste[['Sobrenome','Idade']] = \\\n",
    "df_teste['Nome'].apply(lambda x: pd.Series(extracao_sobrenome(x)))"
   ]
  },
  {
   "cell_type": "code",
   "execution_count": null,
   "metadata": {},
   "outputs": [],
   "source": [
    "df_teste['Nome Padrao'] = \\\n",
    "df_teste.apply(lambda row: extrair_nome_padrao(row), axis=1)"
   ]
  },
  {
   "cell_type": "code",
   "execution_count": null,
   "metadata": {},
   "outputs": [],
   "source": [
    "df_teste[['Nome Padrao','Sobrenome','Idade']]"
   ]
  },
  {
   "cell_type": "code",
   "execution_count": null,
   "metadata": {},
   "outputs": [],
   "source": []
  }
 ],
 "metadata": {
  "kernelspec": {
   "display_name": "Python 3",
   "language": "python",
   "name": "python3"
  },
  "language_info": {
   "codemirror_mode": {
    "name": "ipython",
    "version": 3
   },
   "file_extension": ".py",
   "mimetype": "text/x-python",
   "name": "python",
   "nbconvert_exporter": "python",
   "pygments_lexer": "ipython3",
   "version": "3.10.12"
  }
 },
 "nbformat": 4,
 "nbformat_minor": 2
}
