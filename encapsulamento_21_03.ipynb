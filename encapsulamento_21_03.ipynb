{
 "cells": [
  {
   "cell_type": "code",
   "execution_count": 16,
   "metadata": {},
   "outputs": [],
   "source": [
    "class Receita:\n",
    "    def __init__(self,funcionario:str,horas_trabalhadas:int) -> None:       \n",
    "       self.funcionario = funcionario\n",
    "       self.horas_trabalhadas = horas_trabalhadas\n",
    "       self.__valor_horas_trabalhadas = 100\n",
    "    \n",
    "    def calculo_salario(self) -> int:\n",
    "        salario = self.__valor_horas_trabalhadas * self.horas_trabalhadas\n",
    "        return print(f'{self.funcionario} tem salário de {salario}')\n",
    "    \n",
    "    def get_valor_horas_trab(self) -> int:\n",
    "        return self.__valor_horas_trabalhadas\n",
    "\n",
    "    def set_valor_horas_trab(self,valor:int) -> int:\n",
    "        self.__valor_horas_trabalhadas = valor"
   ]
  },
  {
   "cell_type": "code",
   "execution_count": 17,
   "metadata": {},
   "outputs": [
    {
     "name": "stdout",
     "output_type": "stream",
     "text": [
      "Bernardo tem salário de 4000\n"
     ]
    }
   ],
   "source": [
    "teste = Receita('Bernardo',40)\n",
    "teste.__valor_horas_trabalhadas = 1000000\n",
    "teste.calculo_salario()"
   ]
  },
  {
   "cell_type": "code",
   "execution_count": 18,
   "metadata": {},
   "outputs": [
    {
     "name": "stdout",
     "output_type": "stream",
     "text": [
      "Bernardo tem salário de 40000000\n"
     ]
    }
   ],
   "source": [
    "teste = Receita('Bernardo',40)\n",
    "teste.set_valor_horas_trab(1000000)\n",
    "teste.calculo_salario()"
   ]
  },
  {
   "cell_type": "code",
   "execution_count": 23,
   "metadata": {},
   "outputs": [
    {
     "name": "stdout",
     "output_type": "stream",
     "text": [
      "Valor horas trabalhada de Bernardo é 100\n",
      "Bernardo tem salário de 4000\n"
     ]
    }
   ],
   "source": [
    "teste = Receita('Bernardo',40)\n",
    "print(f'Valor horas trabalhada de {teste.funcionario} é {teste.get_valor_horas_trab()}')\n",
    "teste.calculo_salario()"
   ]
  },
  {
   "cell_type": "code",
   "execution_count": null,
   "metadata": {},
   "outputs": [],
   "source": []
  }
 ],
 "metadata": {
  "kernelspec": {
   "display_name": "Python 3",
   "language": "python",
   "name": "python3"
  },
  "language_info": {
   "codemirror_mode": {
    "name": "ipython",
    "version": 3
   },
   "file_extension": ".py",
   "mimetype": "text/x-python",
   "name": "python",
   "nbconvert_exporter": "python",
   "pygments_lexer": "ipython3",
   "version": "3.10.12"
  }
 },
 "nbformat": 4,
 "nbformat_minor": 2
}
