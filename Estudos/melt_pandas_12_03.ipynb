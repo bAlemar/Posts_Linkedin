{
 "cells": [
  {
   "cell_type": "code",
   "execution_count": 1,
   "metadata": {},
   "outputs": [],
   "source": [
    "import pandas as pd"
   ]
  },
  {
   "cell_type": "code",
   "execution_count": 64,
   "metadata": {},
   "outputs": [],
   "source": [
    "dict_exemplo = {\n",
    "\n",
    "'Nome':['Whey','BCCA','Creatina'],\n",
    "'Pesagem_1': ['1kg','200g','200g'],\n",
    "'Pesagem_2': ['2kg','400g','300g'],\n",
    "'Pesagem_3': ['5kg','1kg','500g'],\n",
    "'Preco_1':[100,50,100],\n",
    "'Preco_2':[190,90,150],\n",
    "'Preco_3':[400,220,200],\n",
    "}"
   ]
  },
  {
   "cell_type": "code",
   "execution_count": 74,
   "metadata": {},
   "outputs": [
    {
     "data": {
      "text/html": [
       "<div>\n",
       "<style scoped>\n",
       "    .dataframe tbody tr th:only-of-type {\n",
       "        vertical-align: middle;\n",
       "    }\n",
       "\n",
       "    .dataframe tbody tr th {\n",
       "        vertical-align: top;\n",
       "    }\n",
       "\n",
       "    .dataframe thead th {\n",
       "        text-align: right;\n",
       "    }\n",
       "</style>\n",
       "<table border=\"1\" class=\"dataframe\">\n",
       "  <thead>\n",
       "    <tr style=\"text-align: right;\">\n",
       "      <th></th>\n",
       "      <th>Nome</th>\n",
       "      <th>Pesagem_1</th>\n",
       "      <th>Pesagem_2</th>\n",
       "      <th>Pesagem_3</th>\n",
       "      <th>Preco_1</th>\n",
       "      <th>Preco_2</th>\n",
       "      <th>Preco_3</th>\n",
       "    </tr>\n",
       "  </thead>\n",
       "  <tbody>\n",
       "    <tr>\n",
       "      <th>0</th>\n",
       "      <td>Whey</td>\n",
       "      <td>1kg</td>\n",
       "      <td>2kg</td>\n",
       "      <td>5kg</td>\n",
       "      <td>100</td>\n",
       "      <td>190</td>\n",
       "      <td>400</td>\n",
       "    </tr>\n",
       "    <tr>\n",
       "      <th>1</th>\n",
       "      <td>BCCA</td>\n",
       "      <td>200g</td>\n",
       "      <td>400g</td>\n",
       "      <td>1kg</td>\n",
       "      <td>50</td>\n",
       "      <td>90</td>\n",
       "      <td>220</td>\n",
       "    </tr>\n",
       "    <tr>\n",
       "      <th>2</th>\n",
       "      <td>Creatina</td>\n",
       "      <td>200g</td>\n",
       "      <td>300g</td>\n",
       "      <td>500g</td>\n",
       "      <td>100</td>\n",
       "      <td>150</td>\n",
       "      <td>200</td>\n",
       "    </tr>\n",
       "  </tbody>\n",
       "</table>\n",
       "</div>"
      ],
      "text/plain": [
       "       Nome Pesagem_1 Pesagem_2 Pesagem_3  Preco_1  Preco_2  Preco_3\n",
       "0      Whey       1kg       2kg       5kg      100      190      400\n",
       "1      BCCA      200g      400g       1kg       50       90      220\n",
       "2  Creatina      200g      300g      500g      100      150      200"
      ]
     },
     "execution_count": 74,
     "metadata": {},
     "output_type": "execute_result"
    }
   ],
   "source": [
    "df = pd.DataFrame(dict_exemplo)\n",
    "df"
   ]
  },
  {
   "cell_type": "code",
   "execution_count": 70,
   "metadata": {},
   "outputs": [],
   "source": [
    "colunas_pesagem = list(df.filter(like='Pesagem').columns)"
   ]
  },
  {
   "cell_type": "code",
   "execution_count": 75,
   "metadata": {},
   "outputs": [
    {
     "data": {
      "text/html": [
       "<div>\n",
       "<style scoped>\n",
       "    .dataframe tbody tr th:only-of-type {\n",
       "        vertical-align: middle;\n",
       "    }\n",
       "\n",
       "    .dataframe tbody tr th {\n",
       "        vertical-align: top;\n",
       "    }\n",
       "\n",
       "    .dataframe thead th {\n",
       "        text-align: right;\n",
       "    }\n",
       "</style>\n",
       "<table border=\"1\" class=\"dataframe\">\n",
       "  <thead>\n",
       "    <tr style=\"text-align: right;\">\n",
       "      <th></th>\n",
       "      <th>Nome</th>\n",
       "      <th>Pesagem_id</th>\n",
       "      <th>Peso Padrao</th>\n",
       "    </tr>\n",
       "  </thead>\n",
       "  <tbody>\n",
       "    <tr>\n",
       "      <th>0</th>\n",
       "      <td>Whey</td>\n",
       "      <td>Pesagem_1</td>\n",
       "      <td>1kg</td>\n",
       "    </tr>\n",
       "    <tr>\n",
       "      <th>1</th>\n",
       "      <td>BCCA</td>\n",
       "      <td>Pesagem_1</td>\n",
       "      <td>200g</td>\n",
       "    </tr>\n",
       "    <tr>\n",
       "      <th>2</th>\n",
       "      <td>Creatina</td>\n",
       "      <td>Pesagem_1</td>\n",
       "      <td>200g</td>\n",
       "    </tr>\n",
       "    <tr>\n",
       "      <th>3</th>\n",
       "      <td>Whey</td>\n",
       "      <td>Pesagem_2</td>\n",
       "      <td>2kg</td>\n",
       "    </tr>\n",
       "    <tr>\n",
       "      <th>4</th>\n",
       "      <td>BCCA</td>\n",
       "      <td>Pesagem_2</td>\n",
       "      <td>400g</td>\n",
       "    </tr>\n",
       "    <tr>\n",
       "      <th>5</th>\n",
       "      <td>Creatina</td>\n",
       "      <td>Pesagem_2</td>\n",
       "      <td>300g</td>\n",
       "    </tr>\n",
       "    <tr>\n",
       "      <th>6</th>\n",
       "      <td>Whey</td>\n",
       "      <td>Pesagem_3</td>\n",
       "      <td>5kg</td>\n",
       "    </tr>\n",
       "    <tr>\n",
       "      <th>7</th>\n",
       "      <td>BCCA</td>\n",
       "      <td>Pesagem_3</td>\n",
       "      <td>1kg</td>\n",
       "    </tr>\n",
       "    <tr>\n",
       "      <th>8</th>\n",
       "      <td>Creatina</td>\n",
       "      <td>Pesagem_3</td>\n",
       "      <td>500g</td>\n",
       "    </tr>\n",
       "  </tbody>\n",
       "</table>\n",
       "</div>"
      ],
      "text/plain": [
       "       Nome Pesagem_id Peso Padrao\n",
       "0      Whey  Pesagem_1         1kg\n",
       "1      BCCA  Pesagem_1        200g\n",
       "2  Creatina  Pesagem_1        200g\n",
       "3      Whey  Pesagem_2         2kg\n",
       "4      BCCA  Pesagem_2        400g\n",
       "5  Creatina  Pesagem_2        300g\n",
       "6      Whey  Pesagem_3         5kg\n",
       "7      BCCA  Pesagem_3         1kg\n",
       "8  Creatina  Pesagem_3        500g"
      ]
     },
     "execution_count": 75,
     "metadata": {},
     "output_type": "execute_result"
    }
   ],
   "source": [
    "df_1 = pd.melt(df,\n",
    "               id_vars=['Nome'],\n",
    "               var_name='Pesagem_id',\n",
    "               value_vars=colunas_pesagem,\n",
    "               value_name='Peso Padrao')\n",
    "df_1"
   ]
  },
  {
   "cell_type": "code",
   "execution_count": null,
   "metadata": {},
   "outputs": [],
   "source": [
    "# Post 2"
   ]
  },
  {
   "cell_type": "code",
   "execution_count": 55,
   "metadata": {},
   "outputs": [],
   "source": [
    "def preco_padrao(row):\n",
    "    print(row)\n",
    "    print(row['Preco_1'])\n",
    "    return    "
   ]
  },
  {
   "cell_type": "code",
   "execution_count": null,
   "metadata": {},
   "outputs": [],
   "source": [
    "df_1['Preco_Padrao'] = df_1['Pesagem_id'].apply(lambda x: preco_padrao(x)) "
   ]
  },
  {
   "cell_type": "code",
   "execution_count": 76,
   "metadata": {},
   "outputs": [
    {
     "name": "stdout",
     "output_type": "stream",
     "text": [
      "     Item       Tipo  Valor\n",
      "0   Item1  Pesagem_1      1\n",
      "1   Item2  Pesagem_1      2\n",
      "2   Item3  Pesagem_1      3\n",
      "3   Item1  Pesagem_2      4\n",
      "4   Item2  Pesagem_2      5\n",
      "5   Item3  Pesagem_2      6\n",
      "6   Item1  Pesagem_3      7\n",
      "7   Item2  Pesagem_3      8\n",
      "8   Item3  Pesagem_3      9\n",
      "9   Item1    Preco_1     10\n",
      "10  Item2    Preco_1     20\n",
      "11  Item3    Preco_1     30\n",
      "12  Item1    Preco_2     40\n",
      "13  Item2    Preco_2     50\n",
      "14  Item3    Preco_2     60\n",
      "15  Item1    Preco_3     70\n",
      "16  Item2    Preco_3     80\n",
      "17  Item3    Preco_3     90\n"
     ]
    }
   ],
   "source": [
    "import pandas as pd\n",
    "\n",
    "# Exemplo de dados\n",
    "dados = {\n",
    "    'Item': ['Item1', 'Item2', 'Item3'],\n",
    "    'Pesagem_1': [1, 2, 3],\n",
    "    'Pesagem_2': [4, 5, 6],\n",
    "    'Pesagem_3': [7, 8, 9],\n",
    "    'Preco_1': [10, 20, 30],\n",
    "    'Preco_2': [40, 50, 60],\n",
    "    'Preco_3': [70, 80, 90]\n",
    "}\n",
    "\n",
    "# Criando o DataFrame\n",
    "df = pd.DataFrame(dados)\n",
    "\n",
    "# Usando pd.melt() para \"derreter\" as colunas de pesagem e preço\n",
    "df_detalhado = pd.melt(df, id_vars=['Item'], var_name='Tipo', value_name='Valor')\n",
    "\n",
    "# Exibindo o DataFrame detalhado\n",
    "print(df_detalhado)\n"
   ]
  }
 ],
 "metadata": {
  "kernelspec": {
   "display_name": "Python 3",
   "language": "python",
   "name": "python3"
  },
  "language_info": {
   "codemirror_mode": {
    "name": "ipython",
    "version": 3
   },
   "file_extension": ".py",
   "mimetype": "text/x-python",
   "name": "python",
   "nbconvert_exporter": "python",
   "pygments_lexer": "ipython3",
   "version": "3.10.12"
  }
 },
 "nbformat": 4,
 "nbformat_minor": 2
}
